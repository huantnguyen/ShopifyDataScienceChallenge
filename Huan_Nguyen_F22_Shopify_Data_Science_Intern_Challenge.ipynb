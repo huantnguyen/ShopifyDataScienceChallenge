{
 "cells": [
  {
   "cell_type": "markdown",
   "id": "36fb1246-e47d-45a2-a11d-8b6593420aeb",
   "metadata": {},
   "source": [
    "# Shopify Data Science Intern Challenge"
   ]
  },
  {
   "cell_type": "markdown",
   "id": "7f31fdec-f69b-418b-b50e-fa9015306a2d",
   "metadata": {},
   "source": [
    "## Import necessary libraries"
   ]
  },
  {
   "cell_type": "code",
   "execution_count": 1,
   "id": "c4bc81c1-ee7e-4fbf-b7c4-1a6b19cd5d57",
   "metadata": {},
   "outputs": [],
   "source": [
    "import pandas as pd\n",
    "import numpy as np \n",
    "import matplotlib.pyplot as plt"
   ]
  },
  {
   "cell_type": "markdown",
   "id": "63ad92c2-9d61-4c65-a788-d2d77c2a4abb",
   "metadata": {},
   "source": [
    "## Question 1"
   ]
  },
  {
   "cell_type": "markdown",
   "id": "88d97dae-a115-40a2-ba91-8f882245c70f",
   "metadata": {},
   "source": [
    "### a)"
   ]
  },
  {
   "cell_type": "code",
   "execution_count": 2,
   "id": "9a7e7d8c-9c2c-4de5-9019-347489b80b0f",
   "metadata": {},
   "outputs": [],
   "source": [
    "df = pd.read_csv('./2019 Winter Data Science Intern Challenge Data Set - Sheet1.csv') # Load dataset"
   ]
  },
  {
   "cell_type": "markdown",
   "id": "29880011-b1bd-4837-a6e9-b88759a6b512",
   "metadata": {},
   "source": [
    "### Overview of the dataset"
   ]
  },
  {
   "cell_type": "code",
   "execution_count": 3,
   "id": "c7e7235b-d5f3-4b06-82e2-ea06c38ec33d",
   "metadata": {},
   "outputs": [
    {
     "data": {
      "text/html": [
       "<div>\n",
       "<style scoped>\n",
       "    .dataframe tbody tr th:only-of-type {\n",
       "        vertical-align: middle;\n",
       "    }\n",
       "\n",
       "    .dataframe tbody tr th {\n",
       "        vertical-align: top;\n",
       "    }\n",
       "\n",
       "    .dataframe thead th {\n",
       "        text-align: right;\n",
       "    }\n",
       "</style>\n",
       "<table border=\"1\" class=\"dataframe\">\n",
       "  <thead>\n",
       "    <tr style=\"text-align: right;\">\n",
       "      <th></th>\n",
       "      <th>order_id</th>\n",
       "      <th>shop_id</th>\n",
       "      <th>user_id</th>\n",
       "      <th>order_amount</th>\n",
       "      <th>total_items</th>\n",
       "      <th>payment_method</th>\n",
       "      <th>created_at</th>\n",
       "    </tr>\n",
       "  </thead>\n",
       "  <tbody>\n",
       "    <tr>\n",
       "      <th>0</th>\n",
       "      <td>1</td>\n",
       "      <td>53</td>\n",
       "      <td>746</td>\n",
       "      <td>224</td>\n",
       "      <td>2</td>\n",
       "      <td>cash</td>\n",
       "      <td>2017-03-13 12:36:56</td>\n",
       "    </tr>\n",
       "    <tr>\n",
       "      <th>1</th>\n",
       "      <td>2</td>\n",
       "      <td>92</td>\n",
       "      <td>925</td>\n",
       "      <td>90</td>\n",
       "      <td>1</td>\n",
       "      <td>cash</td>\n",
       "      <td>2017-03-03 17:38:52</td>\n",
       "    </tr>\n",
       "    <tr>\n",
       "      <th>2</th>\n",
       "      <td>3</td>\n",
       "      <td>44</td>\n",
       "      <td>861</td>\n",
       "      <td>144</td>\n",
       "      <td>1</td>\n",
       "      <td>cash</td>\n",
       "      <td>2017-03-14 4:23:56</td>\n",
       "    </tr>\n",
       "    <tr>\n",
       "      <th>3</th>\n",
       "      <td>4</td>\n",
       "      <td>18</td>\n",
       "      <td>935</td>\n",
       "      <td>156</td>\n",
       "      <td>1</td>\n",
       "      <td>credit_card</td>\n",
       "      <td>2017-03-26 12:43:37</td>\n",
       "    </tr>\n",
       "    <tr>\n",
       "      <th>4</th>\n",
       "      <td>5</td>\n",
       "      <td>18</td>\n",
       "      <td>883</td>\n",
       "      <td>156</td>\n",
       "      <td>1</td>\n",
       "      <td>credit_card</td>\n",
       "      <td>2017-03-01 4:35:11</td>\n",
       "    </tr>\n",
       "  </tbody>\n",
       "</table>\n",
       "</div>"
      ],
      "text/plain": [
       "   order_id  shop_id  user_id  order_amount  total_items payment_method  \\\n",
       "0         1       53      746           224            2           cash   \n",
       "1         2       92      925            90            1           cash   \n",
       "2         3       44      861           144            1           cash   \n",
       "3         4       18      935           156            1    credit_card   \n",
       "4         5       18      883           156            1    credit_card   \n",
       "\n",
       "            created_at  \n",
       "0  2017-03-13 12:36:56  \n",
       "1  2017-03-03 17:38:52  \n",
       "2   2017-03-14 4:23:56  \n",
       "3  2017-03-26 12:43:37  \n",
       "4   2017-03-01 4:35:11  "
      ]
     },
     "execution_count": 3,
     "metadata": {},
     "output_type": "execute_result"
    }
   ],
   "source": [
    "df.head()"
   ]
  },
  {
   "cell_type": "markdown",
   "id": "34965ecf-2eb7-4908-a65e-15905bb2c868",
   "metadata": {},
   "source": [
    "### Check for Null values"
   ]
  },
  {
   "cell_type": "code",
   "execution_count": 4,
   "id": "5e8f5d7f-139d-478e-901b-d017432f4f55",
   "metadata": {},
   "outputs": [
    {
     "data": {
      "text/plain": [
       "False"
      ]
     },
     "execution_count": 4,
     "metadata": {},
     "output_type": "execute_result"
    }
   ],
   "source": [
    "df.isnull().values.any()"
   ]
  },
  {
   "cell_type": "code",
   "execution_count": 5,
   "id": "332b34a3-a226-4ce8-889b-809718fff030",
   "metadata": {},
   "outputs": [
    {
     "name": "stdout",
     "output_type": "stream",
     "text": [
      "<class 'pandas.core.frame.DataFrame'>\n",
      "RangeIndex: 5000 entries, 0 to 4999\n",
      "Data columns (total 7 columns):\n",
      " #   Column          Non-Null Count  Dtype \n",
      "---  ------          --------------  ----- \n",
      " 0   order_id        5000 non-null   int64 \n",
      " 1   shop_id         5000 non-null   int64 \n",
      " 2   user_id         5000 non-null   int64 \n",
      " 3   order_amount    5000 non-null   int64 \n",
      " 4   total_items     5000 non-null   int64 \n",
      " 5   payment_method  5000 non-null   object\n",
      " 6   created_at      5000 non-null   object\n",
      "dtypes: int64(5), object(2)\n",
      "memory usage: 273.6+ KB\n"
     ]
    }
   ],
   "source": [
    "df.info()"
   ]
  },
  {
   "cell_type": "code",
   "execution_count": 6,
   "id": "30feadc3-ba93-4c8d-8db6-5465d2da21f0",
   "metadata": {},
   "outputs": [
    {
     "data": {
      "text/html": [
       "<div>\n",
       "<style scoped>\n",
       "    .dataframe tbody tr th:only-of-type {\n",
       "        vertical-align: middle;\n",
       "    }\n",
       "\n",
       "    .dataframe tbody tr th {\n",
       "        vertical-align: top;\n",
       "    }\n",
       "\n",
       "    .dataframe thead th {\n",
       "        text-align: right;\n",
       "    }\n",
       "</style>\n",
       "<table border=\"1\" class=\"dataframe\">\n",
       "  <thead>\n",
       "    <tr style=\"text-align: right;\">\n",
       "      <th></th>\n",
       "      <th>order_id</th>\n",
       "      <th>shop_id</th>\n",
       "      <th>user_id</th>\n",
       "      <th>order_amount</th>\n",
       "      <th>total_items</th>\n",
       "    </tr>\n",
       "  </thead>\n",
       "  <tbody>\n",
       "    <tr>\n",
       "      <th>count</th>\n",
       "      <td>5000.000000</td>\n",
       "      <td>5000.000000</td>\n",
       "      <td>5000.000000</td>\n",
       "      <td>5000.000000</td>\n",
       "      <td>5000.00000</td>\n",
       "    </tr>\n",
       "    <tr>\n",
       "      <th>mean</th>\n",
       "      <td>2500.500000</td>\n",
       "      <td>50.078800</td>\n",
       "      <td>849.092400</td>\n",
       "      <td>3145.128000</td>\n",
       "      <td>8.78720</td>\n",
       "    </tr>\n",
       "    <tr>\n",
       "      <th>std</th>\n",
       "      <td>1443.520003</td>\n",
       "      <td>29.006118</td>\n",
       "      <td>87.798982</td>\n",
       "      <td>41282.539349</td>\n",
       "      <td>116.32032</td>\n",
       "    </tr>\n",
       "    <tr>\n",
       "      <th>min</th>\n",
       "      <td>1.000000</td>\n",
       "      <td>1.000000</td>\n",
       "      <td>607.000000</td>\n",
       "      <td>90.000000</td>\n",
       "      <td>1.00000</td>\n",
       "    </tr>\n",
       "    <tr>\n",
       "      <th>25%</th>\n",
       "      <td>1250.750000</td>\n",
       "      <td>24.000000</td>\n",
       "      <td>775.000000</td>\n",
       "      <td>163.000000</td>\n",
       "      <td>1.00000</td>\n",
       "    </tr>\n",
       "    <tr>\n",
       "      <th>50%</th>\n",
       "      <td>2500.500000</td>\n",
       "      <td>50.000000</td>\n",
       "      <td>849.000000</td>\n",
       "      <td>284.000000</td>\n",
       "      <td>2.00000</td>\n",
       "    </tr>\n",
       "    <tr>\n",
       "      <th>75%</th>\n",
       "      <td>3750.250000</td>\n",
       "      <td>75.000000</td>\n",
       "      <td>925.000000</td>\n",
       "      <td>390.000000</td>\n",
       "      <td>3.00000</td>\n",
       "    </tr>\n",
       "    <tr>\n",
       "      <th>max</th>\n",
       "      <td>5000.000000</td>\n",
       "      <td>100.000000</td>\n",
       "      <td>999.000000</td>\n",
       "      <td>704000.000000</td>\n",
       "      <td>2000.00000</td>\n",
       "    </tr>\n",
       "  </tbody>\n",
       "</table>\n",
       "</div>"
      ],
      "text/plain": [
       "          order_id      shop_id      user_id   order_amount  total_items\n",
       "count  5000.000000  5000.000000  5000.000000    5000.000000   5000.00000\n",
       "mean   2500.500000    50.078800   849.092400    3145.128000      8.78720\n",
       "std    1443.520003    29.006118    87.798982   41282.539349    116.32032\n",
       "min       1.000000     1.000000   607.000000      90.000000      1.00000\n",
       "25%    1250.750000    24.000000   775.000000     163.000000      1.00000\n",
       "50%    2500.500000    50.000000   849.000000     284.000000      2.00000\n",
       "75%    3750.250000    75.000000   925.000000     390.000000      3.00000\n",
       "max    5000.000000   100.000000   999.000000  704000.000000   2000.00000"
      ]
     },
     "execution_count": 6,
     "metadata": {},
     "output_type": "execute_result"
    }
   ],
   "source": [
    "df.describe()"
   ]
  },
  {
   "cell_type": "markdown",
   "id": "d6aafb8c-1c04-4653-a74b-31ca90059836",
   "metadata": {},
   "source": [
    "Since the problem arised from calculating the amount ordered, we should look at the order_amount column specifically"
   ]
  },
  {
   "cell_type": "code",
   "execution_count": 7,
   "id": "a1e013dd-8bf0-4af6-b0b0-3343cd5ad88e",
   "metadata": {},
   "outputs": [
    {
     "data": {
      "text/plain": [
       "count      5000.00\n",
       "mean       3145.13\n",
       "std       41282.54\n",
       "min          90.00\n",
       "25%         163.00\n",
       "50%         284.00\n",
       "75%         390.00\n",
       "max      704000.00\n",
       "Name: order_amount, dtype: object"
      ]
     },
     "execution_count": 7,
     "metadata": {},
     "output_type": "execute_result"
    }
   ],
   "source": [
    "df['order_amount'].describe().apply(\"{0:.2f}\".format)"
   ]
  },
  {
   "cell_type": "markdown",
   "id": "13d54ea5-f4c1-4d1b-9b8a-114b4817b76e",
   "metadata": {},
   "source": [
    "### Analysis"
   ]
  },
  {
   "cell_type": "markdown",
   "id": "0bab0006-3c6a-457f-883a-89007d6f9f74",
   "metadata": {},
   "source": [
    "As we can see the simple mean calculation will give us the value \\\\$3145.13. Since the standard deviation is pretty high, plus the outstanding maximum value of \\\\$704,000, we can get the gist why using average value would be incorrect. This means the data is pretty much very spread out and there exist extreme outliers in the dataset. Hence, the average value would not tell us anything much meaningful. In order to confirm, lets plot some box plot to see."
   ]
  },
  {
   "cell_type": "markdown",
   "id": "83597e2f-955e-4dc2-985e-3161c1d5003c",
   "metadata": {},
   "source": [
    "### Box plot"
   ]
  },
  {
   "cell_type": "code",
   "execution_count": 8,
   "id": "45111799-899c-4f4d-9d86-11754f8cf579",
   "metadata": {},
   "outputs": [
    {
     "data": {
      "image/png": "[encoded data removed]",
      "text/plain": [
       "<Figure size 720x432 with 1 Axes>"
      ]
     },
     "metadata": {
      "needs_background": "light"
     },
     "output_type": "display_data"
    }
   ],
   "source": [
    "fig, ax = plt.subplots(1,1, figsize=(10, 6))\n",
    "df.boxplot(column=['order_amount'])  \n",
    "plt.show()"
   ]
  },
  {
   "cell_type": "markdown",
   "id": "fd6cef27-b6eb-441b-848c-34a83790cd3c",
   "metadata": {},
   "source": [
    "Our statement stands correct since there are lots of outliers (most likely the value \\\\$704,000) and the plot lies along the green line."
   ]
  },
  {
   "cell_type": "markdown",
   "id": "83f74b0b-c70b-499d-9ab0-2e3141877a1e",
   "metadata": {},
   "source": [
    "We should take a look at how many times the outliers occur to get a better gasp."
   ]
  },
  {
   "cell_type": "code",
   "execution_count": 9,
   "id": "af523d75-4ac7-4c48-a9d4-e8c843b014a7",
   "metadata": {},
   "outputs": [
    {
     "data": {
      "text/html": [
       "<div>\n",
       "<style scoped>\n",
       "    .dataframe tbody tr th:only-of-type {\n",
       "        vertical-align: middle;\n",
       "    }\n",
       "\n",
       "    .dataframe tbody tr th {\n",
       "        vertical-align: top;\n",
       "    }\n",
       "\n",
       "    .dataframe thead th {\n",
       "        text-align: right;\n",
       "    }\n",
       "</style>\n",
       "<table border=\"1\" class=\"dataframe\">\n",
       "  <thead>\n",
       "    <tr style=\"text-align: right;\">\n",
       "      <th></th>\n",
       "      <th>order_amount</th>\n",
       "      <th>total_items</th>\n",
       "      <th>count</th>\n",
       "    </tr>\n",
       "  </thead>\n",
       "  <tbody>\n",
       "    <tr>\n",
       "      <th>0</th>\n",
       "      <td>704000</td>\n",
       "      <td>2000</td>\n",
       "      <td>17</td>\n",
       "    </tr>\n",
       "    <tr>\n",
       "      <th>1</th>\n",
       "      <td>154350</td>\n",
       "      <td>6</td>\n",
       "      <td>1</td>\n",
       "    </tr>\n",
       "    <tr>\n",
       "      <th>2</th>\n",
       "      <td>102900</td>\n",
       "      <td>4</td>\n",
       "      <td>1</td>\n",
       "    </tr>\n",
       "    <tr>\n",
       "      <th>3</th>\n",
       "      <td>77175</td>\n",
       "      <td>3</td>\n",
       "      <td>9</td>\n",
       "    </tr>\n",
       "    <tr>\n",
       "      <th>4</th>\n",
       "      <td>51450</td>\n",
       "      <td>2</td>\n",
       "      <td>16</td>\n",
       "    </tr>\n",
       "    <tr>\n",
       "      <th>5</th>\n",
       "      <td>25725</td>\n",
       "      <td>1</td>\n",
       "      <td>19</td>\n",
       "    </tr>\n",
       "    <tr>\n",
       "      <th>6</th>\n",
       "      <td>1760</td>\n",
       "      <td>5</td>\n",
       "      <td>1</td>\n",
       "    </tr>\n",
       "    <tr>\n",
       "      <th>7</th>\n",
       "      <td>1408</td>\n",
       "      <td>4</td>\n",
       "      <td>2</td>\n",
       "    </tr>\n",
       "    <tr>\n",
       "      <th>8</th>\n",
       "      <td>1086</td>\n",
       "      <td>6</td>\n",
       "      <td>1</td>\n",
       "    </tr>\n",
       "    <tr>\n",
       "      <th>9</th>\n",
       "      <td>1064</td>\n",
       "      <td>8</td>\n",
       "      <td>1</td>\n",
       "    </tr>\n",
       "    <tr>\n",
       "      <th>10</th>\n",
       "      <td>1056</td>\n",
       "      <td>3</td>\n",
       "      <td>3</td>\n",
       "    </tr>\n",
       "    <tr>\n",
       "      <th>11</th>\n",
       "      <td>980</td>\n",
       "      <td>5</td>\n",
       "      <td>1</td>\n",
       "    </tr>\n",
       "    <tr>\n",
       "      <th>12</th>\n",
       "      <td>965</td>\n",
       "      <td>5</td>\n",
       "      <td>1</td>\n",
       "    </tr>\n",
       "    <tr>\n",
       "      <th>13</th>\n",
       "      <td>960</td>\n",
       "      <td>6</td>\n",
       "      <td>2</td>\n",
       "    </tr>\n",
       "    <tr>\n",
       "      <th>14</th>\n",
       "      <td>948</td>\n",
       "      <td>6</td>\n",
       "      <td>1</td>\n",
       "    </tr>\n",
       "    <tr>\n",
       "      <th>15</th>\n",
       "      <td>935</td>\n",
       "      <td>5</td>\n",
       "      <td>3</td>\n",
       "    </tr>\n",
       "    <tr>\n",
       "      <th>16</th>\n",
       "      <td>920</td>\n",
       "      <td>5</td>\n",
       "      <td>1</td>\n",
       "    </tr>\n",
       "    <tr>\n",
       "      <th>17</th>\n",
       "      <td>890</td>\n",
       "      <td>5</td>\n",
       "      <td>1</td>\n",
       "    </tr>\n",
       "    <tr>\n",
       "      <th>18</th>\n",
       "      <td>885</td>\n",
       "      <td>5</td>\n",
       "      <td>2</td>\n",
       "    </tr>\n",
       "    <tr>\n",
       "      <th>19</th>\n",
       "      <td>880</td>\n",
       "      <td>5</td>\n",
       "      <td>3</td>\n",
       "    </tr>\n",
       "  </tbody>\n",
       "</table>\n",
       "</div>"
      ],
      "text/plain": [
       "    order_amount  total_items  count\n",
       "0         704000         2000     17\n",
       "1         154350            6      1\n",
       "2         102900            4      1\n",
       "3          77175            3      9\n",
       "4          51450            2     16\n",
       "5          25725            1     19\n",
       "6           1760            5      1\n",
       "7           1408            4      2\n",
       "8           1086            6      1\n",
       "9           1064            8      1\n",
       "10          1056            3      3\n",
       "11           980            5      1\n",
       "12           965            5      1\n",
       "13           960            6      2\n",
       "14           948            6      1\n",
       "15           935            5      3\n",
       "16           920            5      1\n",
       "17           890            5      1\n",
       "18           885            5      2\n",
       "19           880            5      3"
      ]
     },
     "execution_count": 9,
     "metadata": {},
     "output_type": "execute_result"
    }
   ],
   "source": [
    "total_occurs = df.groupby(['order_amount','total_items']).size().reset_index(name='count').sort_values(by='order_amount', ascending=False)\n",
    "total_occurs = total_occurs.reset_index(drop=True)\n",
    "total_occurs.head(20)"
   ]
  },
  {
   "cell_type": "markdown",
   "id": "c4a43ccb-dfbb-4604-9d36-d59f34ab9510",
   "metadata": {},
   "source": [
    "Wow! That does not look right at all! These 100 sneakers shops are selling well... sneakers. Then how could this be? How could there be 17 times of transactions that have 2000 items in total with the price of \\\\$704,000. I conclude a money laundering scheme here!!! Or perhaps mistakes were made during data recording. Jokes aside, lets look at the outliers of \\\\$704,000, \\\\$7154,350, \\\\$102,900 more closely to see if they actually make sense or not."
   ]
  },
  {
   "cell_type": "markdown",
   "id": "c0075145-65fd-45d6-8427-a54b5597792a",
   "metadata": {},
   "source": [
    "Since we have the create_at column that indicates the date and time when the transactions were made, lets add that to our previous table."
   ]
  },
  {
   "cell_type": "code",
   "execution_count": 10,
   "id": "128c4eca-9c2d-4d3a-9696-75a703c990d5",
   "metadata": {},
   "outputs": [
    {
     "data": {
      "text/html": [
       "<div>\n",
       "<style scoped>\n",
       "    .dataframe tbody tr th:only-of-type {\n",
       "        vertical-align: middle;\n",
       "    }\n",
       "\n",
       "    .dataframe tbody tr th {\n",
       "        vertical-align: top;\n",
       "    }\n",
       "\n",
       "    .dataframe thead th {\n",
       "        text-align: right;\n",
       "    }\n",
       "</style>\n",
       "<table border=\"1\" class=\"dataframe\">\n",
       "  <thead>\n",
       "    <tr style=\"text-align: right;\">\n",
       "      <th></th>\n",
       "      <th>order_amount</th>\n",
       "      <th>total_items</th>\n",
       "      <th>created_at</th>\n",
       "      <th>count</th>\n",
       "    </tr>\n",
       "  </thead>\n",
       "  <tbody>\n",
       "    <tr>\n",
       "      <th>0</th>\n",
       "      <td>704000</td>\n",
       "      <td>2000</td>\n",
       "      <td>2017-03-28 4:00:00</td>\n",
       "      <td>3</td>\n",
       "    </tr>\n",
       "    <tr>\n",
       "      <th>1</th>\n",
       "      <td>704000</td>\n",
       "      <td>2000</td>\n",
       "      <td>2017-03-15 4:00:00</td>\n",
       "      <td>1</td>\n",
       "    </tr>\n",
       "    <tr>\n",
       "      <th>2</th>\n",
       "      <td>704000</td>\n",
       "      <td>2000</td>\n",
       "      <td>2017-03-02 4:00:00</td>\n",
       "      <td>2</td>\n",
       "    </tr>\n",
       "    <tr>\n",
       "      <th>3</th>\n",
       "      <td>704000</td>\n",
       "      <td>2000</td>\n",
       "      <td>2017-03-04 4:00:00</td>\n",
       "      <td>1</td>\n",
       "    </tr>\n",
       "    <tr>\n",
       "      <th>4</th>\n",
       "      <td>704000</td>\n",
       "      <td>2000</td>\n",
       "      <td>2017-03-07 4:00:00</td>\n",
       "      <td>2</td>\n",
       "    </tr>\n",
       "    <tr>\n",
       "      <th>5</th>\n",
       "      <td>704000</td>\n",
       "      <td>2000</td>\n",
       "      <td>2017-03-12 4:00:00</td>\n",
       "      <td>1</td>\n",
       "    </tr>\n",
       "    <tr>\n",
       "      <th>6</th>\n",
       "      <td>704000</td>\n",
       "      <td>2000</td>\n",
       "      <td>2017-03-11 4:00:00</td>\n",
       "      <td>1</td>\n",
       "    </tr>\n",
       "    <tr>\n",
       "      <th>7</th>\n",
       "      <td>704000</td>\n",
       "      <td>2000</td>\n",
       "      <td>2017-03-17 4:00:00</td>\n",
       "      <td>1</td>\n",
       "    </tr>\n",
       "    <tr>\n",
       "      <th>8</th>\n",
       "      <td>704000</td>\n",
       "      <td>2000</td>\n",
       "      <td>2017-03-19 4:00:00</td>\n",
       "      <td>1</td>\n",
       "    </tr>\n",
       "    <tr>\n",
       "      <th>9</th>\n",
       "      <td>704000</td>\n",
       "      <td>2000</td>\n",
       "      <td>2017-03-22 4:00:00</td>\n",
       "      <td>1</td>\n",
       "    </tr>\n",
       "    <tr>\n",
       "      <th>10</th>\n",
       "      <td>704000</td>\n",
       "      <td>2000</td>\n",
       "      <td>2017-03-24 4:00:00</td>\n",
       "      <td>2</td>\n",
       "    </tr>\n",
       "    <tr>\n",
       "      <th>11</th>\n",
       "      <td>704000</td>\n",
       "      <td>2000</td>\n",
       "      <td>2017-03-25 4:00:00</td>\n",
       "      <td>1</td>\n",
       "    </tr>\n",
       "    <tr>\n",
       "      <th>12</th>\n",
       "      <td>154350</td>\n",
       "      <td>6</td>\n",
       "      <td>2017-03-27 22:51:43</td>\n",
       "      <td>1</td>\n",
       "    </tr>\n",
       "    <tr>\n",
       "      <th>13</th>\n",
       "      <td>102900</td>\n",
       "      <td>4</td>\n",
       "      <td>2017-03-04 4:37:34</td>\n",
       "      <td>1</td>\n",
       "    </tr>\n",
       "    <tr>\n",
       "      <th>14</th>\n",
       "      <td>77175</td>\n",
       "      <td>3</td>\n",
       "      <td>2017-03-16 9:45:05</td>\n",
       "      <td>1</td>\n",
       "    </tr>\n",
       "    <tr>\n",
       "      <th>15</th>\n",
       "      <td>77175</td>\n",
       "      <td>3</td>\n",
       "      <td>2017-03-05 5:10:44</td>\n",
       "      <td>1</td>\n",
       "    </tr>\n",
       "    <tr>\n",
       "      <th>16</th>\n",
       "      <td>77175</td>\n",
       "      <td>3</td>\n",
       "      <td>2017-03-09 15:21:35</td>\n",
       "      <td>1</td>\n",
       "    </tr>\n",
       "    <tr>\n",
       "      <th>17</th>\n",
       "      <td>77175</td>\n",
       "      <td>3</td>\n",
       "      <td>2017-03-16 14:13:26</td>\n",
       "      <td>1</td>\n",
       "    </tr>\n",
       "    <tr>\n",
       "      <th>18</th>\n",
       "      <td>77175</td>\n",
       "      <td>3</td>\n",
       "      <td>2017-03-16 3:45:46</td>\n",
       "      <td>1</td>\n",
       "    </tr>\n",
       "    <tr>\n",
       "      <th>19</th>\n",
       "      <td>77175</td>\n",
       "      <td>3</td>\n",
       "      <td>2017-03-27 9:27:20</td>\n",
       "      <td>1</td>\n",
       "    </tr>\n",
       "  </tbody>\n",
       "</table>\n",
       "</div>"
      ],
      "text/plain": [
       "    order_amount  total_items           created_at  count\n",
       "0         704000         2000   2017-03-28 4:00:00      3\n",
       "1         704000         2000   2017-03-15 4:00:00      1\n",
       "2         704000         2000   2017-03-02 4:00:00      2\n",
       "3         704000         2000   2017-03-04 4:00:00      1\n",
       "4         704000         2000   2017-03-07 4:00:00      2\n",
       "5         704000         2000   2017-03-12 4:00:00      1\n",
       "6         704000         2000   2017-03-11 4:00:00      1\n",
       "7         704000         2000   2017-03-17 4:00:00      1\n",
       "8         704000         2000   2017-03-19 4:00:00      1\n",
       "9         704000         2000   2017-03-22 4:00:00      1\n",
       "10        704000         2000   2017-03-24 4:00:00      2\n",
       "11        704000         2000   2017-03-25 4:00:00      1\n",
       "12        154350            6  2017-03-27 22:51:43      1\n",
       "13        102900            4   2017-03-04 4:37:34      1\n",
       "14         77175            3   2017-03-16 9:45:05      1\n",
       "15         77175            3   2017-03-05 5:10:44      1\n",
       "16         77175            3  2017-03-09 15:21:35      1\n",
       "17         77175            3  2017-03-16 14:13:26      1\n",
       "18         77175            3   2017-03-16 3:45:46      1\n",
       "19         77175            3   2017-03-27 9:27:20      1"
      ]
     },
     "execution_count": 10,
     "metadata": {},
     "output_type": "execute_result"
    }
   ],
   "source": [
    "total_occurs_date = df.groupby(['order_amount','total_items','created_at']).size().reset_index(name='count').sort_values(by='order_amount', ascending=False)\n",
    "total_occurs_date = total_occurs_date.reset_index(drop=True)\n",
    "total_occurs_date.head(20)"
   ]
  },
  {
   "cell_type": "markdown",
   "id": "998f3fe1-a1bb-4444-9fc0-d0e8de1b5e50",
   "metadata": {},
   "source": [
    "Well well well, this settles it I guess. It does not make any sense at all for 3 transactions of \\\\$704,00 to happen at the same time and date. At this point, should I even check if it was paid in cash or credit?:)  "
   ]
  },
  {
   "cell_type": "markdown",
   "id": "8dd57316-4cd5-4c98-ae25-68e31f2f2c4d",
   "metadata": {},
   "source": [
    "### Conclusion"
   ]
  },
  {
   "cell_type": "markdown",
   "id": "6a902c78-4613-45b8-8eac-bccdecd85268",
   "metadata": {},
   "source": [
    "- In conclusion, the data was highly skewed by the outstanding outliers. This mean it is not wise to use average to do analysis.\n",
    "- I would recommend to use the median value we found, which was $284, that would make more sense.\n",
    "- However, in order to eliminate the outliers even more during calculation, a better way is to use moving(rolling) median, which is robust to outliers. (Down below)"
   ]
  },
  {
   "cell_type": "markdown",
   "id": "5f91325a-951d-4427-a168-4e14cf0bc798",
   "metadata": {},
   "source": [
    "### b)"
   ]
  },
  {
   "cell_type": "code",
   "execution_count": 12,
   "id": "9f3648cf-f2b9-420a-8fac-1177600020a5",
   "metadata": {},
   "outputs": [
    {
     "data": {
      "text/plain": [
       "0         NaN\n",
       "1         NaN\n",
       "2         NaN\n",
       "3         NaN\n",
       "4         NaN\n",
       "        ...  \n",
       "4995    260.0\n",
       "4996    260.0\n",
       "4997    260.0\n",
       "4998    271.0\n",
       "4999    271.0\n",
       "Name: order_amount, Length: 5000, dtype: float64"
      ]
     },
     "execution_count": 12,
     "metadata": {},
     "output_type": "execute_result"
    }
   ],
   "source": [
    "new_metric = df['order_amount'].rolling(30).median()\n",
    "new_metric"
   ]
  },
  {
   "cell_type": "markdown",
   "id": "8daa9c62-91d4-4eb0-85aa-87855ab0b256",
   "metadata": {},
   "source": [
    "- As we are calculating the moving median for the 30 days window size, the first few values are NaN makes sense because there are not enough prior numbers to make the calculation.\n",
    "- The reason why moving median was chosen over moving average is because of its robust to outliers.\n",
    "- Hence, moving median is my choice for this dataset."
   ]
  },
  {
   "cell_type": "markdown",
   "id": "60d5b11d-9acf-48a7-b023-0871d76976ba",
   "metadata": {},
   "source": [
    "### c)"
   ]
  },
  {
   "cell_type": "markdown",
   "id": "67148bda-aa53-4d10-8e74-c5e4f127261c",
   "metadata": {},
   "source": [
    "The value of the moving average would be \\$271.00"
   ]
  },
  {
   "cell_type": "markdown",
   "id": "5570ac8b-3d6e-499f-a2ef-652dfdacf3e3",
   "metadata": {},
   "source": [
    "## Question 2"
   ]
  },
  {
   "cell_type": "markdown",
   "id": "4ae4eeda-0b28-4b53-a725-9dbc157949d8",
   "metadata": {},
   "source": [
    "### a)"
   ]
  },
  {
   "cell_type": "markdown",
   "id": "b5e895ca-698f-485d-ad8b-3cc22c3d0471",
   "metadata": {},
   "source": [
    "- First I would look at the tables that would relate to orders detail and shippers detail whyich are 'Orders' 'and Shippers' <br>\n",
    ">SELECT * FROM Orders;<br>\n",
    "SELECT * FROM Shippers;"
   ]
  },
  {
   "cell_type": "markdown",
   "id": "89faae67-f9c7-49be-8e68-53527c7982a7",
   "metadata": {},
   "source": [
    "- This is the queries I would you to display the count of orders shipped by Speedy Express: <br>\n",
    "- We are going to join by the ShipperID column and count instances when the shipper's name is Speedy Express.\n",
    ">SELECT COUNT(\\*) AS CountOrder <br>\n",
    "FROM ORDERS o  <br>\n",
    "JOIN Shippers s <br>\n",
    "&emsp; ON o.ShipperID = s.ShipperID <br>\n",
    "WHERE ShipperName = \"Speedy Express\""
   ]
  },
  {
   "cell_type": "markdown",
   "id": "2b4e742b-5fd8-4732-af41-3d5ec33fda55",
   "metadata": {},
   "source": [
    "- The answer is 54 orders were shipped by Speedy Express in total."
   ]
  },
  {
   "cell_type": "markdown",
   "id": "db3fc536-053a-4344-81cf-db095096d093",
   "metadata": {},
   "source": [
    "- Since there are only 3 different shippers in total, we can simply do this query to get the same result easily: <br>\n",
    ">SELECT COUNT(ShipperID)  <br>\n",
    "FROM Orders <br>\n",
    "WHERE ShipperID = 1; <br>\n"
   ]
  },
  {
   "cell_type": "markdown",
   "id": "cddd0ed6-0c36-46be-8f87-916035e62365",
   "metadata": {},
   "source": [
    "### b)"
   ]
  },
  {
   "cell_type": "markdown",
   "id": "1844e7ff-84a7-4963-9eaf-b33fbf6b4a51",
   "metadata": {},
   "source": [
    "- Since the 'Orders' table have the EmployeeID, we only need the 'Orders' and 'Employees' tables for this question.\n",
    "- We are going to join by the EmployeeId column and sort by descending order of counts of orders.\n",
    ">SELECT LastName, COUNT(\\*) AS CountOrder <br>\n",
    "FROM Employees e <br>\n",
    "JOIN Orders o <br>\n",
    "&emsp; ON e.EmployeeID = o.EmployeeID <br>\n",
    "GROUP BY e.LastName <br>\n",
    "ORDER BY NumberOfOrders DESC <br>"
   ]
  },
  {
   "cell_type": "markdown",
   "id": "e7d741cd-f07c-49bd-bfdf-23a3aaa54775",
   "metadata": {},
   "source": [
    "- Employee with last name \"Peacock\" had the most orders of 40."
   ]
  },
  {
   "cell_type": "markdown",
   "id": "579e8db4-d4a2-41ee-b4e2-5e5b9dd54816",
   "metadata": {},
   "source": [
    "### c)"
   ]
  },
  {
   "cell_type": "markdown",
   "id": "0344f48a-5e63-47eb-90a2-e3b0b7ec1dba",
   "metadata": {},
   "source": [
    "- Train of thoughts: this problem requires more joins from different tables because the CustomerID from 'Customers' is the only column related to CustomerID in 'Orders'. But to calculate the total number of products we need the Quantity from 'OrderDetails' and ProductName in 'Products'. Hence there are 4 tables involved in total. <br>\n",
    "- So 'Customers' <-> 'Orders' <-> 'OrderDetails' <-> 'Products' <br>\n",
    ">SELECT ProductName, SUM(Quantity) AS CountOrder <br>\n",
    "FROM Products p <br>\n",
    "&emsp; JOIN OrderDetails d ON p.ProductID = d.ProductID <br>\n",
    "&emsp; JOIN Orders o ON d.OrderID = o.OrderID <br>\n",
    "&emsp; JOIN Customers c ON o.CustomerID = c.CustomerID <br>\n",
    "WHERE c.Country = \"Germany\" <br>\n",
    "GROUP BY ProductName <br>\n",
    "ORDER BY CountOrder DESC <br>\n",
    "LIMIT 1; \n"
   ]
  },
  {
   "cell_type": "markdown",
   "id": "2e7c8f57-aac0-43e6-9167-5f52fd7ca8a9",
   "metadata": {},
   "source": [
    "- 'Boston Crab Meat' was the most ordered product by customers in Germany."
   ]
  }
 ],
 "metadata": {
  "kernelspec": {
   "display_name": "Python 3",
   "language": "python",
   "name": "python3"
  },
  "language_info": {
   "codemirror_mode": {
    "name": "ipython",
    "version": 3
   },
   "file_extension": ".py",
   "mimetype": "text/x-python",
   "name": "python",
   "nbconvert_exporter": "python",
   "pygments_lexer": "ipython3",
   "version": "3.8.8"
  }
 },
 "nbformat": 4,
 "nbformat_minor": 5
}
